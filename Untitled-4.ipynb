{
 "cells": [
  {
   "cell_type": "code",
   "execution_count": 1,
   "metadata": {},
   "outputs": [
    {
     "name": "stderr",
     "output_type": "stream",
     "text": [
      "/Users/mariadonskova/opt/anaconda3/lib/python3.7/site-packages/tqdm/std.py:648: FutureWarning: The Panel class is removed from pandas. Accessing it from the top-level namespace will also be removed in the next version\n",
      "  from pandas import Panel\n"
     ]
    }
   ],
   "source": [
    "import pandas as pd\n",
    "from fastparquet import ParquetFile\n",
    "import matplotlib.pyplot as plt\n",
    "import matplotlib.dates as dates\n",
    "import datetime as dt\n",
    "from ipywidgets import interact\n",
    "from tqdm.notebook import tqdm\n",
    "\n",
    "tqdm.pandas()\n",
    "\n",
    "plt.rcParams['figure.figsize'] = (10, 5)\n",
    "\n",
    "%matplotlib inline"
   ]
  },
  {
   "cell_type": "code",
   "execution_count": 2,
   "metadata": {},
   "outputs": [],
   "source": [
    "clients = pd.read_csv('clients.csv')\n",
    "materials = pd.read_csv('materials.csv')\n",
    "plants = pd.read_csv('plants.csv')\n",
    "transactions = pd.read_parquet('transactions.parquet').sort_values('chq_date')"
   ]
  },
  {
   "cell_type": "code",
   "execution_count": 3,
   "metadata": {},
   "outputs": [
    {
     "data": {
      "text/plain": [
       "Timestamp('2017-10-04 00:00:00')"
      ]
     },
     "execution_count": 3,
     "metadata": {},
     "output_type": "execute_result"
    }
   ],
   "source": [
    "transactions['chq_date'].max()"
   ]
  },
  {
   "cell_type": "code",
   "execution_count": 95,
   "metadata": {},
   "outputs": [
    {
     "data": {
      "text/plain": [
       "100000"
      ]
     },
     "execution_count": 95,
     "metadata": {},
     "output_type": "execute_result"
    }
   ],
   "source": [
    "transactions.client_id.nunique()"
   ]
  },
  {
   "cell_type": "markdown",
   "metadata": {},
   "source": [
    "# Поиск людей, которые перестали пользоваться услугами Ленты"
   ]
  },
  {
   "cell_type": "code",
   "execution_count": 4,
   "metadata": {},
   "outputs": [],
   "source": [
    "def create_client_base(transactions):\n",
    "    \n",
    "    def max_progress(x):\n",
    "    \n",
    "        m = 0\n",
    "        for x_ in x:\n",
    "            value = int(x_)\n",
    "            if value > m:\n",
    "                m = value\n",
    "\n",
    "        return m\n",
    "    \n",
    "    def diff_timestamps(database):\n",
    "        \n",
    "        data = [0]*len(database.chq_date)\n",
    "\n",
    "        for i in tqdm(range(1, len(database.chq_date))):\n",
    "    \n",
    "            if database.client_id[i] != database.client_id[i - 1]:\n",
    "                data[i - 1] = pd.Timestamp('2017-10-04') - database.chq_date[i - 1]\n",
    "            else:\n",
    "                data[i - 1] = database.chq_date[i] - database.chq_date[i - 1]\n",
    "    \n",
    "        data[-1] = pd.Timestamp('2017-10-04') - database.chq_date[len(database.chq_date) - 1]\n",
    "        \n",
    "        database['time_diff'] = data\n",
    "        \n",
    "        database['time_diff'] = pd.to_numeric(database['time_diff'].dt.days, downcast='integer')\n",
    "        \n",
    "    local_data = transactions.groupby(['client_id', 'chq_date'])\n",
    "    \n",
    "    data = local_data['chq_position'].progress_apply(max_progress).reset_index(name='max_pos')\n",
    "    data['max_promo'] = local_data['is_promo'].sum().reset_index(name='max_promo')['max_promo']\n",
    "    data['max_sales'] = local_data['sales_sum'].sum().reset_index(name='sales_sum')['sales_sum']\n",
    "    \n",
    "    diff_timestamps(data)\n",
    "    \n",
    "    local_data = data.groupby(['client_id'])['time_diff'].max().reset_index(name='time_max')\n",
    "    data = pd.merge(data, local_data, how='left', on='client_id')\n",
    "    \n",
    "    local_data = data.groupby(['client_id'])['time_diff'].mean().reset_index(name='time_mean')\n",
    "    data = pd.merge(data, local_data, how='left', on='client_id')\n",
    "    \n",
    "    data['is_quit'] = (((data.time_max / data.time_mean) > 10) | (data.time_max > 30)).astype(int)\n",
    "    \n",
    "    return data"
   ]
  },
  {
   "cell_type": "code",
   "execution_count": 5,
   "metadata": {},
   "outputs": [
    {
     "data": {
      "application/vnd.jupyter.widget-view+json": {
       "model_id": "4dd9d3ef56554294a5acdf014644dd6b",
       "version_major": 2,
       "version_minor": 0
      },
      "text/plain": [
       "HBox(children=(IntProgress(value=0, max=2480214), HTML(value='')))"
      ]
     },
     "metadata": {},
     "output_type": "display_data"
    },
    {
     "name": "stdout",
     "output_type": "stream",
     "text": [
      "\n"
     ]
    },
    {
     "data": {
      "application/vnd.jupyter.widget-view+json": {
       "model_id": "12ff12ae7ffc4bbf8f2347c956e3104c",
       "version_major": 2,
       "version_minor": 0
      },
      "text/plain": [
       "HBox(children=(IntProgress(value=0, max=2480213), HTML(value='')))"
      ]
     },
     "metadata": {},
     "output_type": "display_data"
    },
    {
     "name": "stdout",
     "output_type": "stream",
     "text": [
      "\n"
     ]
    }
   ],
   "source": [
    "database = create_client_base(transactions)"
   ]
  },
  {
   "cell_type": "code",
   "execution_count": 72,
   "metadata": {},
   "outputs": [],
   "source": [
    "database.to_csv('file.csv', index=False)"
   ]
  },
  {
   "cell_type": "markdown",
   "metadata": {},
   "source": [
    "#  Поиск лояльных клиентов"
   ]
  },
  {
   "cell_type": "code",
   "execution_count": 12,
   "metadata": {},
   "outputs": [],
   "source": [
    "database = pd.merge(database, database.groupby(['client_id'])['chq_date'].count().reset_index(name='frec'), \n",
    "                    how='left', on='client_id')"
   ]
  },
  {
   "cell_type": "code",
   "execution_count": 181,
   "metadata": {},
   "outputs": [
    {
     "data": {
      "text/html": [
       "<div>\n",
       "<style scoped>\n",
       "    .dataframe tbody tr th:only-of-type {\n",
       "        vertical-align: middle;\n",
       "    }\n",
       "\n",
       "    .dataframe tbody tr th {\n",
       "        vertical-align: top;\n",
       "    }\n",
       "\n",
       "    .dataframe thead th {\n",
       "        text-align: right;\n",
       "    }\n",
       "</style>\n",
       "<table border=\"1\" class=\"dataframe\">\n",
       "  <thead>\n",
       "    <tr style=\"text-align: right;\">\n",
       "      <th></th>\n",
       "      <th>client_id</th>\n",
       "      <th>chq_date</th>\n",
       "      <th>max_pos</th>\n",
       "      <th>max_promo</th>\n",
       "      <th>max_sales</th>\n",
       "      <th>time_diff</th>\n",
       "      <th>time_max</th>\n",
       "      <th>time_mean</th>\n",
       "      <th>is_quit</th>\n",
       "      <th>frec</th>\n",
       "    </tr>\n",
       "  </thead>\n",
       "  <tbody>\n",
       "    <tr>\n",
       "      <td>0</td>\n",
       "      <td>0000d48a8891cd462fdf01ea861ec53e</td>\n",
       "      <td>2016-10-31</td>\n",
       "      <td>12</td>\n",
       "      <td>4</td>\n",
       "      <td>1655.0</td>\n",
       "      <td>20</td>\n",
       "      <td>34</td>\n",
       "      <td>9.388889</td>\n",
       "      <td>1</td>\n",
       "      <td>36</td>\n",
       "    </tr>\n",
       "    <tr>\n",
       "      <td>1</td>\n",
       "      <td>0000d48a8891cd462fdf01ea861ec53e</td>\n",
       "      <td>2016-11-20</td>\n",
       "      <td>15</td>\n",
       "      <td>6</td>\n",
       "      <td>2475.0</td>\n",
       "      <td>11</td>\n",
       "      <td>34</td>\n",
       "      <td>9.388889</td>\n",
       "      <td>1</td>\n",
       "      <td>36</td>\n",
       "    </tr>\n",
       "    <tr>\n",
       "      <td>2</td>\n",
       "      <td>0000d48a8891cd462fdf01ea861ec53e</td>\n",
       "      <td>2016-12-01</td>\n",
       "      <td>20</td>\n",
       "      <td>20</td>\n",
       "      <td>4481.0</td>\n",
       "      <td>9</td>\n",
       "      <td>34</td>\n",
       "      <td>9.388889</td>\n",
       "      <td>1</td>\n",
       "      <td>36</td>\n",
       "    </tr>\n",
       "    <tr>\n",
       "      <td>3</td>\n",
       "      <td>0000d48a8891cd462fdf01ea861ec53e</td>\n",
       "      <td>2016-12-10</td>\n",
       "      <td>12</td>\n",
       "      <td>5</td>\n",
       "      <td>2030.0</td>\n",
       "      <td>3</td>\n",
       "      <td>34</td>\n",
       "      <td>9.388889</td>\n",
       "      <td>1</td>\n",
       "      <td>36</td>\n",
       "    </tr>\n",
       "    <tr>\n",
       "      <td>4</td>\n",
       "      <td>0000d48a8891cd462fdf01ea861ec53e</td>\n",
       "      <td>2016-12-13</td>\n",
       "      <td>11</td>\n",
       "      <td>11</td>\n",
       "      <td>1502.0</td>\n",
       "      <td>14</td>\n",
       "      <td>34</td>\n",
       "      <td>9.388889</td>\n",
       "      <td>1</td>\n",
       "      <td>36</td>\n",
       "    </tr>\n",
       "    <tr>\n",
       "      <td>...</td>\n",
       "      <td>...</td>\n",
       "      <td>...</td>\n",
       "      <td>...</td>\n",
       "      <td>...</td>\n",
       "      <td>...</td>\n",
       "      <td>...</td>\n",
       "      <td>...</td>\n",
       "      <td>...</td>\n",
       "      <td>...</td>\n",
       "      <td>...</td>\n",
       "    </tr>\n",
       "    <tr>\n",
       "      <td>2480209</td>\n",
       "      <td>fffc477269ae5f219e39aa51fa7abb81</td>\n",
       "      <td>2017-05-14</td>\n",
       "      <td>23</td>\n",
       "      <td>12</td>\n",
       "      <td>3882.0</td>\n",
       "      <td>37</td>\n",
       "      <td>138</td>\n",
       "      <td>68.600000</td>\n",
       "      <td>1</td>\n",
       "      <td>5</td>\n",
       "    </tr>\n",
       "    <tr>\n",
       "      <td>2480210</td>\n",
       "      <td>fffc477269ae5f219e39aa51fa7abb81</td>\n",
       "      <td>2017-06-20</td>\n",
       "      <td>35</td>\n",
       "      <td>12</td>\n",
       "      <td>6661.0</td>\n",
       "      <td>106</td>\n",
       "      <td>138</td>\n",
       "      <td>68.600000</td>\n",
       "      <td>1</td>\n",
       "      <td>5</td>\n",
       "    </tr>\n",
       "    <tr>\n",
       "      <td>2480211</td>\n",
       "      <td>fffd3e78e3ea6bf00aee1372efc09dad</td>\n",
       "      <td>2016-10-11</td>\n",
       "      <td>11</td>\n",
       "      <td>1</td>\n",
       "      <td>1213.0</td>\n",
       "      <td>53</td>\n",
       "      <td>215</td>\n",
       "      <td>119.333333</td>\n",
       "      <td>1</td>\n",
       "      <td>3</td>\n",
       "    </tr>\n",
       "    <tr>\n",
       "      <td>2480212</td>\n",
       "      <td>fffd3e78e3ea6bf00aee1372efc09dad</td>\n",
       "      <td>2016-12-03</td>\n",
       "      <td>4</td>\n",
       "      <td>1</td>\n",
       "      <td>220.0</td>\n",
       "      <td>90</td>\n",
       "      <td>215</td>\n",
       "      <td>119.333333</td>\n",
       "      <td>1</td>\n",
       "      <td>3</td>\n",
       "    </tr>\n",
       "    <tr>\n",
       "      <td>2480213</td>\n",
       "      <td>fffd3e78e3ea6bf00aee1372efc09dad</td>\n",
       "      <td>2017-03-03</td>\n",
       "      <td>11</td>\n",
       "      <td>5</td>\n",
       "      <td>1221.0</td>\n",
       "      <td>215</td>\n",
       "      <td>215</td>\n",
       "      <td>119.333333</td>\n",
       "      <td>1</td>\n",
       "      <td>3</td>\n",
       "    </tr>\n",
       "  </tbody>\n",
       "</table>\n",
       "<p>2480214 rows × 10 columns</p>\n",
       "</div>"
      ],
      "text/plain": [
       "                                client_id   chq_date  max_pos  max_promo  \\\n",
       "0        0000d48a8891cd462fdf01ea861ec53e 2016-10-31       12          4   \n",
       "1        0000d48a8891cd462fdf01ea861ec53e 2016-11-20       15          6   \n",
       "2        0000d48a8891cd462fdf01ea861ec53e 2016-12-01       20         20   \n",
       "3        0000d48a8891cd462fdf01ea861ec53e 2016-12-10       12          5   \n",
       "4        0000d48a8891cd462fdf01ea861ec53e 2016-12-13       11         11   \n",
       "...                                   ...        ...      ...        ...   \n",
       "2480209  fffc477269ae5f219e39aa51fa7abb81 2017-05-14       23         12   \n",
       "2480210  fffc477269ae5f219e39aa51fa7abb81 2017-06-20       35         12   \n",
       "2480211  fffd3e78e3ea6bf00aee1372efc09dad 2016-10-11       11          1   \n",
       "2480212  fffd3e78e3ea6bf00aee1372efc09dad 2016-12-03        4          1   \n",
       "2480213  fffd3e78e3ea6bf00aee1372efc09dad 2017-03-03       11          5   \n",
       "\n",
       "         max_sales  time_diff  time_max   time_mean  is_quit  frec  \n",
       "0           1655.0         20        34    9.388889        1    36  \n",
       "1           2475.0         11        34    9.388889        1    36  \n",
       "2           4481.0          9        34    9.388889        1    36  \n",
       "3           2030.0          3        34    9.388889        1    36  \n",
       "4           1502.0         14        34    9.388889        1    36  \n",
       "...            ...        ...       ...         ...      ...   ...  \n",
       "2480209     3882.0         37       138   68.600000        1     5  \n",
       "2480210     6661.0        106       138   68.600000        1     5  \n",
       "2480211     1213.0         53       215  119.333333        1     3  \n",
       "2480212      220.0         90       215  119.333333        1     3  \n",
       "2480213     1221.0        215       215  119.333333        1     3  \n",
       "\n",
       "[2480214 rows x 10 columns]"
      ]
     },
     "execution_count": 181,
     "metadata": {},
     "output_type": "execute_result"
    }
   ],
   "source": [
    "database"
   ]
  },
  {
   "cell_type": "code",
   "execution_count": 185,
   "metadata": {},
   "outputs": [
    {
     "data": {
      "text/html": [
       "        <script type=\"text/javascript\">\n",
       "        window.PlotlyConfig = {MathJaxConfig: 'local'};\n",
       "        if (window.MathJax) {MathJax.Hub.Config({SVG: {font: \"STIX-Web\"}});}\n",
       "        if (typeof require !== 'undefined') {\n",
       "        require.undef(\"plotly\");\n",
       "        requirejs.config({\n",
       "            paths: {\n",
       "                'plotly': ['https://cdn.plot.ly/plotly-latest.min']\n",
       "            }\n",
       "        });\n",
       "        require(['plotly'], function(Plotly) {\n",
       "            window._Plotly = Plotly;\n",
       "        });\n",
       "        }\n",
       "        </script>\n",
       "        "
      ]
     },
     "metadata": {},
     "output_type": "display_data"
    }
   ],
   "source": [
    "#Call required libraries\n",
    "import time                   # To time processes\n",
    "import warnings               # To suppress warnings\n",
    "\n",
    "import numpy as np            # Data manipulation\n",
    "import pandas as pd           # Dataframe manipulatio \n",
    "import matplotlib.pyplot as plt                   # For graphics\n",
    "import seaborn as sns\n",
    "import plotly.graph_objs as go\n",
    "from plotly.offline import download_plotlyjs, init_notebook_mode, plot, iplot\n",
    "init_notebook_mode(connected=True)\n",
    "\n",
    "from sklearn.preprocessing import StandardScaler  # For scaling dataset\n",
    "from sklearn.cluster import KMeans, AgglomerativeClustering, AffinityPropagation #For clustering\n",
    "from sklearn.mixture import GaussianMixture #For GMM clustering\n",
    "\n",
    "import os                     # For os related operations\n",
    "import sys                    # For data size"
   ]
  },
  {
   "cell_type": "code",
   "execution_count": 186,
   "metadata": {},
   "outputs": [],
   "source": [
    "def doKmeans(X, nclust=2):\n",
    "    model = KMeans(nclust)\n",
    "    model.fit(X)\n",
    "    clust_labels = model.predict(X)\n",
    "    cent = model.cluster_centers_\n",
    "    return (clust_labels, cent)\n",
    "\n",
    "clust_labels, cent = doKmeans(database[['time_max', 'time_mean']], 2)\n",
    "kmeans = pd.DataFrame(clust_labels)\n",
    "database.insert((database.shape[1]),'kmeans',kmeans)"
   ]
  },
  {
   "cell_type": "code",
   "execution_count": 187,
   "metadata": {},
   "outputs": [
    {
     "data": {
      "text/plain": [
       "<matplotlib.colorbar.Colorbar at 0x7fbfd9bebe10>"
      ]
     },
     "execution_count": 187,
     "metadata": {},
     "output_type": "execute_result"
    },
    {
     "data": {
      "image/png": "[encoded data removed]",
      "text/plain": [
       "<Figure size 360x360 with 2 Axes>"
      ]
     },
     "metadata": {
      "needs_background": "light"
     },
     "output_type": "display_data"
    }
   ],
   "source": [
    "fig = plt.figure()\n",
    "ax = fig.add_subplot(111)\n",
    "scatter = ax.scatter(database['time_max'],database['time_mean'],\n",
    "                     c=kmeans[0],s=50)\n",
    "ax.set_title('K-Means Clustering')\n",
    "ax.set_xlabel('time_max')\n",
    "ax.set_ylabel('time_mean')\n",
    "plt.colorbar(scatter)"
   ]
  },
  {
   "cell_type": "code",
   "execution_count": 149,
   "metadata": {},
   "outputs": [
    {
     "data": {
      "text/plain": [
       "88457"
      ]
     },
     "execution_count": 149,
     "metadata": {},
     "output_type": "execute_result"
    }
   ],
   "source": [
    "database[database.is_quit == 1].client_id.nunique()"
   ]
  },
  {
   "cell_type": "code",
   "execution_count": 43,
   "metadata": {},
   "outputs": [],
   "source": [
    "mask = database['frec'] == 70\n",
    "a = database[mask]"
   ]
  },
  {
   "cell_type": "code",
   "execution_count": 45,
   "metadata": {},
   "outputs": [
    {
     "data": {
      "text/plain": [
       "1445.4406464585834"
      ]
     },
     "execution_count": 45,
     "metadata": {},
     "output_type": "execute_result"
    }
   ],
   "source": [
    "a.groupby(['client_id'])['max_sales'].mean().reset_index().max_sales.mean()"
   ]
  },
  {
   "cell_type": "code",
   "execution_count": 49,
   "metadata": {},
   "outputs": [],
   "source": [
    "x_list = []\n",
    "y_list = []\n",
    "\n",
    "\n",
    "for i in sorted(database.frec.unique()):\n",
    "    x_list.append(i)\n",
    "    mask = database['frec'] == i\n",
    "    a = database[mask]\n",
    "    y_list.append(a.groupby(['client_id'])['max_sales'].mean().reset_index().max_sales.mean())\n",
    "    "
   ]
  },
  {
   "cell_type": "code",
   "execution_count": 71,
   "metadata": {},
   "outputs": [
    {
     "data": {
      "image/png": "[encoded data removed]",
      "text/plain": [
       "<Figure size 1080x504 with 1 Axes>"
      ]
     },
     "metadata": {
      "needs_background": "light"
     },
     "output_type": "display_data"
    }
   ],
   "source": [
    "plt.plot(x_list, y_list, color='k', label='Mean chq(frequency)')\n",
    "plt.xlabel('frequency of visits', fontsize=20)\n",
    "plt.ylabel('Mean check', fontsize=20)\n",
    "plt.legend()\n",
    "plt.savefig('Mean chq(frequency).svg', format='svg')"
   ]
  },
  {
   "cell_type": "code",
   "execution_count": 190,
   "metadata": {},
   "outputs": [
    {
     "data": {
      "text/plain": [
       "Text(0, 0.5, 'Number of people')"
      ]
     },
     "execution_count": 190,
     "metadata": {},
     "output_type": "execute_result"
    },
    {
     "data": {
      "image/png": "[encoded data removed]",
      "text/plain": [
       "<Figure size 360x360 with 1 Axes>"
      ]
     },
     "metadata": {
      "needs_background": "light"
     },
     "output_type": "display_data"
    }
   ],
   "source": [
    "\n",
    "plt.rcParams['figure.figsize'] = (5, 5)\n",
    "\n",
    "c = database.groupby(['client_id'])['chq_date'].count().value_counts().sort_index().plot(color='k')\n",
    "plt.xlabel('frequency of visits', fontsize=20)\n",
    "plt.ylabel('Number of people', fontsize=20)\n",
    "\n",
    "#plt.savefig('Number of people.svg', format='svg', transparent=True)"
   ]
  },
  {
   "cell_type": "code",
   "execution_count": 209,
   "metadata": {},
   "outputs": [
    {
     "data": {
      "text/html": [
       "<div>\n",
       "<style scoped>\n",
       "    .dataframe tbody tr th:only-of-type {\n",
       "        vertical-align: middle;\n",
       "    }\n",
       "\n",
       "    .dataframe tbody tr th {\n",
       "        vertical-align: top;\n",
       "    }\n",
       "\n",
       "    .dataframe thead th {\n",
       "        text-align: right;\n",
       "    }\n",
       "</style>\n",
       "<table border=\"1\" class=\"dataframe\">\n",
       "  <thead>\n",
       "    <tr style=\"text-align: right;\">\n",
       "      <th></th>\n",
       "      <th>chq_date</th>\n",
       "      <th>x</th>\n",
       "      <th>y</th>\n",
       "    </tr>\n",
       "  </thead>\n",
       "  <tbody>\n",
       "    <tr>\n",
       "      <td>1</td>\n",
       "      <td>1393</td>\n",
       "      <td>1</td>\n",
       "      <td>1393</td>\n",
       "    </tr>\n",
       "    <tr>\n",
       "      <td>2</td>\n",
       "      <td>3365</td>\n",
       "      <td>2</td>\n",
       "      <td>3365</td>\n",
       "    </tr>\n",
       "    <tr>\n",
       "      <td>3</td>\n",
       "      <td>3806</td>\n",
       "      <td>3</td>\n",
       "      <td>3806</td>\n",
       "    </tr>\n",
       "    <tr>\n",
       "      <td>4</td>\n",
       "      <td>4040</td>\n",
       "      <td>4</td>\n",
       "      <td>4040</td>\n",
       "    </tr>\n",
       "    <tr>\n",
       "      <td>5</td>\n",
       "      <td>4053</td>\n",
       "      <td>5</td>\n",
       "      <td>4053</td>\n",
       "    </tr>\n",
       "    <tr>\n",
       "      <td>...</td>\n",
       "      <td>...</td>\n",
       "      <td>...</td>\n",
       "      <td>...</td>\n",
       "    </tr>\n",
       "    <tr>\n",
       "      <td>226</td>\n",
       "      <td>1</td>\n",
       "      <td>226</td>\n",
       "      <td>1</td>\n",
       "    </tr>\n",
       "    <tr>\n",
       "      <td>232</td>\n",
       "      <td>1</td>\n",
       "      <td>232</td>\n",
       "      <td>1</td>\n",
       "    </tr>\n",
       "    <tr>\n",
       "      <td>233</td>\n",
       "      <td>1</td>\n",
       "      <td>233</td>\n",
       "      <td>1</td>\n",
       "    </tr>\n",
       "    <tr>\n",
       "      <td>234</td>\n",
       "      <td>1</td>\n",
       "      <td>234</td>\n",
       "      <td>1</td>\n",
       "    </tr>\n",
       "    <tr>\n",
       "      <td>247</td>\n",
       "      <td>1</td>\n",
       "      <td>247</td>\n",
       "      <td>1</td>\n",
       "    </tr>\n",
       "  </tbody>\n",
       "</table>\n",
       "<p>218 rows × 3 columns</p>\n",
       "</div>"
      ],
      "text/plain": [
       "     chq_date    x     y\n",
       "1        1393    1  1393\n",
       "2        3365    2  3365\n",
       "3        3806    3  3806\n",
       "4        4040    4  4040\n",
       "5        4053    5  4053\n",
       "..        ...  ...   ...\n",
       "226         1  226     1\n",
       "232         1  232     1\n",
       "233         1  233     1\n",
       "234         1  234     1\n",
       "247         1  247     1\n",
       "\n",
       "[218 rows x 3 columns]"
      ]
     },
     "execution_count": 209,
     "metadata": {},
     "output_type": "execute_result"
    }
   ],
   "source": [
    "c"
   ]
  },
  {
   "cell_type": "code",
   "execution_count": 197,
   "metadata": {},
   "outputs": [],
   "source": [
    "c['x'] = c.index"
   ]
  },
  {
   "cell_type": "code",
   "execution_count": 199,
   "metadata": {},
   "outputs": [],
   "source": [
    "c['y'] = c['chq_date']"
   ]
  },
  {
   "cell_type": "code",
   "execution_count": 223,
   "metadata": {},
   "outputs": [
    {
     "data": {
      "text/plain": [
       "(array([16., 11.,  8.,  6.,  5.,  5.,  3.,  1.,  3.,  2.,  2.,  2.,  1.,\n",
       "         1.,  2.,  1.,  1.,  2.,  0.,  4.,  0.,  1.,  0.,  2.,  0.,  2.,\n",
       "         2.,  0.,  0.,  0.,  3.,  1.,  1.,  1.,  2.,  0.,  1.,  0.,  0.,\n",
       "         1.,  2.,  0.,  1.,  2.,  2.,  0.,  2.,  2.,  0.,  0.,  1.,  0.,\n",
       "         0.,  0.,  0.,  0.,  0.,  1.,  1.,  1.,  0.,  0.,  0.,  0.,  2.,\n",
       "         0.,  0.,  0.,  0.,  0.,  1.,  1.,  0.,  1.,  0.,  1.,  0.,  0.,\n",
       "         2.,  0.,  2.,  1.,  1.,  2.,  0.,  0.,  0.,  1.,  0.,  1.,  0.,\n",
       "         0.,  0.,  0.,  0.,  0.,  0.,  1.,  0.,  1.,  0.,  0.,  0.,  0.,\n",
       "         0.,  0.,  1.,  0.,  0.,  1.,  0.,  0.,  0.,  0.,  1.,  0.,  0.,\n",
       "         1.,  0.,  1.,  1.,  1.,  1.,  0.,  0.,  0.,  0.,  0.,  0.,  0.,\n",
       "         0.,  0.,  0.,  0.,  0.,  0.,  2.,  0.,  0.,  0.,  0.,  0.,  0.,\n",
       "         2.,  0.,  0.,  0.,  0.,  0.,  1.,  0.,  1.,  0.,  0.,  0.,  1.,\n",
       "         0.,  0.,  0.,  0.,  0.,  0.,  0.,  1.,  0.,  0.,  0.,  0.,  0.,\n",
       "         1.,  0.,  0.,  0.,  0.,  0.,  0.,  0.,  0.,  0.,  1.,  0.,  0.,\n",
       "         0.,  0.,  1.,  0.,  0.,  0.,  0.,  1.,  1.,  0.,  0.,  0.,  0.,\n",
       "         0.,  1.,  0.,  0.,  0.,  0.,  0.,  0.,  0.,  1.,  0.,  0.,  0.,\n",
       "         0.,  0.,  0.,  0.,  0.,  0.,  0.,  0.,  2.]),\n",
       " array([  1,   2,   3,   4,   5,   6,   7,   8,   9,  10,  11,  12,  13,\n",
       "         14,  15,  16,  17,  18,  19,  20,  21,  22,  23,  24,  25,  26,\n",
       "         27,  28,  29,  30,  31,  32,  33,  34,  35,  36,  37,  38,  39,\n",
       "         40,  41,  42,  43,  44,  45,  46,  47,  48,  49,  50,  51,  52,\n",
       "         53,  54,  55,  56,  57,  58,  59,  60,  61,  62,  63,  64,  65,\n",
       "         66,  67,  68,  69,  70,  71,  72,  73,  74,  75,  76,  77,  78,\n",
       "         79,  80,  81,  82,  83,  84,  85,  86,  87,  88,  89,  90,  91,\n",
       "         92,  93,  94,  95,  96,  97,  98,  99, 100, 101, 102, 103, 104,\n",
       "        105, 106, 107, 108, 109, 110, 111, 112, 113, 114, 115, 116, 117,\n",
       "        118, 119, 120, 121, 122, 123, 124, 125, 126, 127, 128, 129, 130,\n",
       "        131, 132, 133, 134, 135, 136, 137, 138, 139, 140, 141, 142, 143,\n",
       "        144, 145, 146, 147, 148, 149, 150, 151, 152, 153, 154, 155, 156,\n",
       "        157, 158, 159, 160, 161, 162, 163, 164, 165, 166, 167, 168, 169,\n",
       "        170, 171, 172, 173, 174, 175, 176, 177, 178, 179, 180, 181, 182,\n",
       "        183, 184, 185, 186, 187, 188, 189, 190, 191, 192, 193, 194, 195,\n",
       "        196, 198, 200, 201, 202, 203, 204, 205, 207, 208, 209, 210, 212,\n",
       "        214, 218, 219, 220, 225, 226, 232, 233, 234, 247]),\n",
       " <a list of 217 Patch objects>)"
      ]
     },
     "execution_count": 223,
     "metadata": {},
     "output_type": "execute_result"
    },
    {
     "data": {
      "image/png": "[encoded data removed]",
      "text/plain": [
       "<Figure size 360x360 with 1 Axes>"
      ]
     },
     "metadata": {
      "needs_background": "light"
     },
     "output_type": "display_data"
    }
   ],
   "source": [
    "plt.hist(c['y'], c['x'], align='right', color='k')"
   ]
  },
  {
   "cell_type": "code",
   "execution_count": 204,
   "metadata": {},
   "outputs": [
    {
     "data": {
      "text/plain": [
       "array([[<matplotlib.axes._subplots.AxesSubplot object at 0x7fbfd9c21cd0>]],\n",
       "      dtype=object)"
      ]
     },
     "execution_count": 204,
     "metadata": {},
     "output_type": "execute_result"
    },
    {
     "data": {
      "image/png": "[encoded data removed]",
      "text/plain": [
       "<Figure size 360x360 with 1 Axes>"
      ]
     },
     "metadata": {
      "needs_background": "light"
     },
     "output_type": "display_data"
    }
   ],
   "source": [
    "c[['x']].hist()"
   ]
  },
  {
   "cell_type": "code",
   "execution_count": 96,
   "metadata": {},
   "outputs": [],
   "source": [
    "mask1 = database.frec >= 12\n",
    "mask2 = database.is_quit == 0\n",
    "\n",
    "database_loyal = database[mask1 | mask2]"
   ]
  },
  {
   "cell_type": "code",
   "execution_count": 109,
   "metadata": {},
   "outputs": [
    {
     "data": {
      "text/html": [
       "<div>\n",
       "<style scoped>\n",
       "    .dataframe tbody tr th:only-of-type {\n",
       "        vertical-align: middle;\n",
       "    }\n",
       "\n",
       "    .dataframe tbody tr th {\n",
       "        vertical-align: top;\n",
       "    }\n",
       "\n",
       "    .dataframe thead th {\n",
       "        text-align: right;\n",
       "    }\n",
       "</style>\n",
       "<table border=\"1\" class=\"dataframe\">\n",
       "  <thead>\n",
       "    <tr style=\"text-align: right;\">\n",
       "      <th></th>\n",
       "      <th>client_id</th>\n",
       "      <th>chq_date</th>\n",
       "      <th>max_pos</th>\n",
       "      <th>max_promo</th>\n",
       "      <th>max_sales</th>\n",
       "      <th>time_diff</th>\n",
       "      <th>time_max</th>\n",
       "      <th>time_mean</th>\n",
       "      <th>is_quit</th>\n",
       "      <th>frec</th>\n",
       "      <th>prom</th>\n",
       "    </tr>\n",
       "  </thead>\n",
       "  <tbody>\n",
       "    <tr>\n",
       "      <td>0</td>\n",
       "      <td>0000d48a8891cd462fdf01ea861ec53e</td>\n",
       "      <td>2016-10-31</td>\n",
       "      <td>12</td>\n",
       "      <td>4</td>\n",
       "      <td>1655.0</td>\n",
       "      <td>20</td>\n",
       "      <td>34</td>\n",
       "      <td>9.388889</td>\n",
       "      <td>1</td>\n",
       "      <td>36</td>\n",
       "      <td>0.333333</td>\n",
       "    </tr>\n",
       "    <tr>\n",
       "      <td>1</td>\n",
       "      <td>0000d48a8891cd462fdf01ea861ec53e</td>\n",
       "      <td>2016-11-20</td>\n",
       "      <td>15</td>\n",
       "      <td>6</td>\n",
       "      <td>2475.0</td>\n",
       "      <td>11</td>\n",
       "      <td>34</td>\n",
       "      <td>9.388889</td>\n",
       "      <td>1</td>\n",
       "      <td>36</td>\n",
       "      <td>0.400000</td>\n",
       "    </tr>\n",
       "    <tr>\n",
       "      <td>2</td>\n",
       "      <td>0000d48a8891cd462fdf01ea861ec53e</td>\n",
       "      <td>2016-12-01</td>\n",
       "      <td>20</td>\n",
       "      <td>20</td>\n",
       "      <td>4481.0</td>\n",
       "      <td>9</td>\n",
       "      <td>34</td>\n",
       "      <td>9.388889</td>\n",
       "      <td>1</td>\n",
       "      <td>36</td>\n",
       "      <td>1.000000</td>\n",
       "    </tr>\n",
       "    <tr>\n",
       "      <td>3</td>\n",
       "      <td>0000d48a8891cd462fdf01ea861ec53e</td>\n",
       "      <td>2016-12-10</td>\n",
       "      <td>12</td>\n",
       "      <td>5</td>\n",
       "      <td>2030.0</td>\n",
       "      <td>3</td>\n",
       "      <td>34</td>\n",
       "      <td>9.388889</td>\n",
       "      <td>1</td>\n",
       "      <td>36</td>\n",
       "      <td>0.416667</td>\n",
       "    </tr>\n",
       "    <tr>\n",
       "      <td>4</td>\n",
       "      <td>0000d48a8891cd462fdf01ea861ec53e</td>\n",
       "      <td>2016-12-13</td>\n",
       "      <td>11</td>\n",
       "      <td>11</td>\n",
       "      <td>1502.0</td>\n",
       "      <td>14</td>\n",
       "      <td>34</td>\n",
       "      <td>9.388889</td>\n",
       "      <td>1</td>\n",
       "      <td>36</td>\n",
       "      <td>1.000000</td>\n",
       "    </tr>\n",
       "    <tr>\n",
       "      <td>...</td>\n",
       "      <td>...</td>\n",
       "      <td>...</td>\n",
       "      <td>...</td>\n",
       "      <td>...</td>\n",
       "      <td>...</td>\n",
       "      <td>...</td>\n",
       "      <td>...</td>\n",
       "      <td>...</td>\n",
       "      <td>...</td>\n",
       "      <td>...</td>\n",
       "      <td>...</td>\n",
       "    </tr>\n",
       "    <tr>\n",
       "      <td>2480201</td>\n",
       "      <td>fffc3f2be1422d248dbeda4196ef0711</td>\n",
       "      <td>2017-07-10</td>\n",
       "      <td>7</td>\n",
       "      <td>1</td>\n",
       "      <td>1901.0</td>\n",
       "      <td>11</td>\n",
       "      <td>66</td>\n",
       "      <td>12.275862</td>\n",
       "      <td>1</td>\n",
       "      <td>29</td>\n",
       "      <td>0.142857</td>\n",
       "    </tr>\n",
       "    <tr>\n",
       "      <td>2480202</td>\n",
       "      <td>fffc3f2be1422d248dbeda4196ef0711</td>\n",
       "      <td>2017-07-21</td>\n",
       "      <td>16</td>\n",
       "      <td>2</td>\n",
       "      <td>3506.0</td>\n",
       "      <td>13</td>\n",
       "      <td>66</td>\n",
       "      <td>12.275862</td>\n",
       "      <td>1</td>\n",
       "      <td>29</td>\n",
       "      <td>0.125000</td>\n",
       "    </tr>\n",
       "    <tr>\n",
       "      <td>2480203</td>\n",
       "      <td>fffc3f2be1422d248dbeda4196ef0711</td>\n",
       "      <td>2017-08-03</td>\n",
       "      <td>8</td>\n",
       "      <td>2</td>\n",
       "      <td>1791.0</td>\n",
       "      <td>4</td>\n",
       "      <td>66</td>\n",
       "      <td>12.275862</td>\n",
       "      <td>1</td>\n",
       "      <td>29</td>\n",
       "      <td>0.250000</td>\n",
       "    </tr>\n",
       "    <tr>\n",
       "      <td>2480204</td>\n",
       "      <td>fffc3f2be1422d248dbeda4196ef0711</td>\n",
       "      <td>2017-08-07</td>\n",
       "      <td>20</td>\n",
       "      <td>4</td>\n",
       "      <td>3682.0</td>\n",
       "      <td>48</td>\n",
       "      <td>66</td>\n",
       "      <td>12.275862</td>\n",
       "      <td>1</td>\n",
       "      <td>29</td>\n",
       "      <td>0.200000</td>\n",
       "    </tr>\n",
       "    <tr>\n",
       "      <td>2480205</td>\n",
       "      <td>fffc3f2be1422d248dbeda4196ef0711</td>\n",
       "      <td>2017-09-24</td>\n",
       "      <td>8</td>\n",
       "      <td>1</td>\n",
       "      <td>964.0</td>\n",
       "      <td>10</td>\n",
       "      <td>66</td>\n",
       "      <td>12.275862</td>\n",
       "      <td>1</td>\n",
       "      <td>29</td>\n",
       "      <td>0.125000</td>\n",
       "    </tr>\n",
       "  </tbody>\n",
       "</table>\n",
       "<p>2245401 rows × 11 columns</p>\n",
       "</div>"
      ],
      "text/plain": [
       "                                client_id   chq_date  max_pos  max_promo  \\\n",
       "0        0000d48a8891cd462fdf01ea861ec53e 2016-10-31       12          4   \n",
       "1        0000d48a8891cd462fdf01ea861ec53e 2016-11-20       15          6   \n",
       "2        0000d48a8891cd462fdf01ea861ec53e 2016-12-01       20         20   \n",
       "3        0000d48a8891cd462fdf01ea861ec53e 2016-12-10       12          5   \n",
       "4        0000d48a8891cd462fdf01ea861ec53e 2016-12-13       11         11   \n",
       "...                                   ...        ...      ...        ...   \n",
       "2480201  fffc3f2be1422d248dbeda4196ef0711 2017-07-10        7          1   \n",
       "2480202  fffc3f2be1422d248dbeda4196ef0711 2017-07-21       16          2   \n",
       "2480203  fffc3f2be1422d248dbeda4196ef0711 2017-08-03        8          2   \n",
       "2480204  fffc3f2be1422d248dbeda4196ef0711 2017-08-07       20          4   \n",
       "2480205  fffc3f2be1422d248dbeda4196ef0711 2017-09-24        8          1   \n",
       "\n",
       "         max_sales  time_diff  time_max  time_mean  is_quit  frec      prom  \n",
       "0           1655.0         20        34   9.388889        1    36  0.333333  \n",
       "1           2475.0         11        34   9.388889        1    36  0.400000  \n",
       "2           4481.0          9        34   9.388889        1    36  1.000000  \n",
       "3           2030.0          3        34   9.388889        1    36  0.416667  \n",
       "4           1502.0         14        34   9.388889        1    36  1.000000  \n",
       "...            ...        ...       ...        ...      ...   ...       ...  \n",
       "2480201     1901.0         11        66  12.275862        1    29  0.142857  \n",
       "2480202     3506.0         13        66  12.275862        1    29  0.125000  \n",
       "2480203     1791.0          4        66  12.275862        1    29  0.250000  \n",
       "2480204     3682.0         48        66  12.275862        1    29  0.200000  \n",
       "2480205      964.0         10        66  12.275862        1    29  0.125000  \n",
       "\n",
       "[2245401 rows x 11 columns]"
      ]
     },
     "execution_count": 109,
     "metadata": {},
     "output_type": "execute_result"
    }
   ],
   "source": [
    "database_loyal"
   ]
  },
  {
   "cell_type": "code",
   "execution_count": 108,
   "metadata": {},
   "outputs": [
    {
     "name": "stderr",
     "output_type": "stream",
     "text": [
      "/Users/mariadonskova/opt/anaconda3/lib/python3.7/site-packages/ipykernel_launcher.py:1: SettingWithCopyWarning: \n",
      "A value is trying to be set on a copy of a slice from a DataFrame.\n",
      "Try using .loc[row_indexer,col_indexer] = value instead\n",
      "\n",
      "See the caveats in the documentation: http://pandas.pydata.org/pandas-docs/stable/user_guide/indexing.html#returning-a-view-versus-a-copy\n",
      "  \"\"\"Entry point for launching an IPython kernel.\n"
     ]
    }
   ],
   "source": [
    "database_loyal['prom'] = database_loyal['max_promo'] / database_loyal['max_pos']"
   ]
  },
  {
   "cell_type": "code",
   "execution_count": 99,
   "metadata": {},
   "outputs": [
    {
     "data": {
      "text/html": [
       "<div>\n",
       "<style scoped>\n",
       "    .dataframe tbody tr th:only-of-type {\n",
       "        vertical-align: middle;\n",
       "    }\n",
       "\n",
       "    .dataframe tbody tr th {\n",
       "        vertical-align: top;\n",
       "    }\n",
       "\n",
       "    .dataframe thead th {\n",
       "        text-align: right;\n",
       "    }\n",
       "</style>\n",
       "<table border=\"1\" class=\"dataframe\">\n",
       "  <thead>\n",
       "    <tr style=\"text-align: right;\">\n",
       "      <th></th>\n",
       "      <th>client_id</th>\n",
       "      <th>chq_date</th>\n",
       "      <th>max_pos</th>\n",
       "      <th>max_promo</th>\n",
       "      <th>max_sales</th>\n",
       "      <th>time_diff</th>\n",
       "      <th>time_max</th>\n",
       "      <th>time_mean</th>\n",
       "      <th>is_quit</th>\n",
       "      <th>frec</th>\n",
       "      <th>prom</th>\n",
       "    </tr>\n",
       "  </thead>\n",
       "  <tbody>\n",
       "    <tr>\n",
       "      <td>0</td>\n",
       "      <td>0000d48a8891cd462fdf01ea861ec53e</td>\n",
       "      <td>2016-10-31</td>\n",
       "      <td>12</td>\n",
       "      <td>4</td>\n",
       "      <td>1655.0</td>\n",
       "      <td>20</td>\n",
       "      <td>34</td>\n",
       "      <td>9.388889</td>\n",
       "      <td>1</td>\n",
       "      <td>36</td>\n",
       "      <td>0</td>\n",
       "    </tr>\n",
       "    <tr>\n",
       "      <td>1</td>\n",
       "      <td>0000d48a8891cd462fdf01ea861ec53e</td>\n",
       "      <td>2016-11-20</td>\n",
       "      <td>15</td>\n",
       "      <td>6</td>\n",
       "      <td>2475.0</td>\n",
       "      <td>11</td>\n",
       "      <td>34</td>\n",
       "      <td>9.388889</td>\n",
       "      <td>1</td>\n",
       "      <td>36</td>\n",
       "      <td>0</td>\n",
       "    </tr>\n",
       "    <tr>\n",
       "      <td>2</td>\n",
       "      <td>0000d48a8891cd462fdf01ea861ec53e</td>\n",
       "      <td>2016-12-01</td>\n",
       "      <td>20</td>\n",
       "      <td>20</td>\n",
       "      <td>4481.0</td>\n",
       "      <td>9</td>\n",
       "      <td>34</td>\n",
       "      <td>9.388889</td>\n",
       "      <td>1</td>\n",
       "      <td>36</td>\n",
       "      <td>1</td>\n",
       "    </tr>\n",
       "    <tr>\n",
       "      <td>3</td>\n",
       "      <td>0000d48a8891cd462fdf01ea861ec53e</td>\n",
       "      <td>2016-12-10</td>\n",
       "      <td>12</td>\n",
       "      <td>5</td>\n",
       "      <td>2030.0</td>\n",
       "      <td>3</td>\n",
       "      <td>34</td>\n",
       "      <td>9.388889</td>\n",
       "      <td>1</td>\n",
       "      <td>36</td>\n",
       "      <td>0</td>\n",
       "    </tr>\n",
       "    <tr>\n",
       "      <td>4</td>\n",
       "      <td>0000d48a8891cd462fdf01ea861ec53e</td>\n",
       "      <td>2016-12-13</td>\n",
       "      <td>11</td>\n",
       "      <td>11</td>\n",
       "      <td>1502.0</td>\n",
       "      <td>14</td>\n",
       "      <td>34</td>\n",
       "      <td>9.388889</td>\n",
       "      <td>1</td>\n",
       "      <td>36</td>\n",
       "      <td>1</td>\n",
       "    </tr>\n",
       "    <tr>\n",
       "      <td>...</td>\n",
       "      <td>...</td>\n",
       "      <td>...</td>\n",
       "      <td>...</td>\n",
       "      <td>...</td>\n",
       "      <td>...</td>\n",
       "      <td>...</td>\n",
       "      <td>...</td>\n",
       "      <td>...</td>\n",
       "      <td>...</td>\n",
       "      <td>...</td>\n",
       "      <td>...</td>\n",
       "    </tr>\n",
       "    <tr>\n",
       "      <td>2480201</td>\n",
       "      <td>fffc3f2be1422d248dbeda4196ef0711</td>\n",
       "      <td>2017-07-10</td>\n",
       "      <td>7</td>\n",
       "      <td>1</td>\n",
       "      <td>1901.0</td>\n",
       "      <td>11</td>\n",
       "      <td>66</td>\n",
       "      <td>12.275862</td>\n",
       "      <td>1</td>\n",
       "      <td>29</td>\n",
       "      <td>0</td>\n",
       "    </tr>\n",
       "    <tr>\n",
       "      <td>2480202</td>\n",
       "      <td>fffc3f2be1422d248dbeda4196ef0711</td>\n",
       "      <td>2017-07-21</td>\n",
       "      <td>16</td>\n",
       "      <td>2</td>\n",
       "      <td>3506.0</td>\n",
       "      <td>13</td>\n",
       "      <td>66</td>\n",
       "      <td>12.275862</td>\n",
       "      <td>1</td>\n",
       "      <td>29</td>\n",
       "      <td>0</td>\n",
       "    </tr>\n",
       "    <tr>\n",
       "      <td>2480203</td>\n",
       "      <td>fffc3f2be1422d248dbeda4196ef0711</td>\n",
       "      <td>2017-08-03</td>\n",
       "      <td>8</td>\n",
       "      <td>2</td>\n",
       "      <td>1791.0</td>\n",
       "      <td>4</td>\n",
       "      <td>66</td>\n",
       "      <td>12.275862</td>\n",
       "      <td>1</td>\n",
       "      <td>29</td>\n",
       "      <td>0</td>\n",
       "    </tr>\n",
       "    <tr>\n",
       "      <td>2480204</td>\n",
       "      <td>fffc3f2be1422d248dbeda4196ef0711</td>\n",
       "      <td>2017-08-07</td>\n",
       "      <td>20</td>\n",
       "      <td>4</td>\n",
       "      <td>3682.0</td>\n",
       "      <td>48</td>\n",
       "      <td>66</td>\n",
       "      <td>12.275862</td>\n",
       "      <td>1</td>\n",
       "      <td>29</td>\n",
       "      <td>0</td>\n",
       "    </tr>\n",
       "    <tr>\n",
       "      <td>2480205</td>\n",
       "      <td>fffc3f2be1422d248dbeda4196ef0711</td>\n",
       "      <td>2017-09-24</td>\n",
       "      <td>8</td>\n",
       "      <td>1</td>\n",
       "      <td>964.0</td>\n",
       "      <td>10</td>\n",
       "      <td>66</td>\n",
       "      <td>12.275862</td>\n",
       "      <td>1</td>\n",
       "      <td>29</td>\n",
       "      <td>0</td>\n",
       "    </tr>\n",
       "  </tbody>\n",
       "</table>\n",
       "<p>2245401 rows × 11 columns</p>\n",
       "</div>"
      ],
      "text/plain": [
       "                                client_id   chq_date  max_pos  max_promo  \\\n",
       "0        0000d48a8891cd462fdf01ea861ec53e 2016-10-31       12          4   \n",
       "1        0000d48a8891cd462fdf01ea861ec53e 2016-11-20       15          6   \n",
       "2        0000d48a8891cd462fdf01ea861ec53e 2016-12-01       20         20   \n",
       "3        0000d48a8891cd462fdf01ea861ec53e 2016-12-10       12          5   \n",
       "4        0000d48a8891cd462fdf01ea861ec53e 2016-12-13       11         11   \n",
       "...                                   ...        ...      ...        ...   \n",
       "2480201  fffc3f2be1422d248dbeda4196ef0711 2017-07-10        7          1   \n",
       "2480202  fffc3f2be1422d248dbeda4196ef0711 2017-07-21       16          2   \n",
       "2480203  fffc3f2be1422d248dbeda4196ef0711 2017-08-03        8          2   \n",
       "2480204  fffc3f2be1422d248dbeda4196ef0711 2017-08-07       20          4   \n",
       "2480205  fffc3f2be1422d248dbeda4196ef0711 2017-09-24        8          1   \n",
       "\n",
       "         max_sales  time_diff  time_max  time_mean  is_quit  frec  prom  \n",
       "0           1655.0         20        34   9.388889        1    36     0  \n",
       "1           2475.0         11        34   9.388889        1    36     0  \n",
       "2           4481.0          9        34   9.388889        1    36     1  \n",
       "3           2030.0          3        34   9.388889        1    36     0  \n",
       "4           1502.0         14        34   9.388889        1    36     1  \n",
       "...            ...        ...       ...        ...      ...   ...   ...  \n",
       "2480201     1901.0         11        66  12.275862        1    29     0  \n",
       "2480202     3506.0         13        66  12.275862        1    29     0  \n",
       "2480203     1791.0          4        66  12.275862        1    29     0  \n",
       "2480204     3682.0         48        66  12.275862        1    29     0  \n",
       "2480205      964.0         10        66  12.275862        1    29     0  \n",
       "\n",
       "[2245401 rows x 11 columns]"
      ]
     },
     "execution_count": 99,
     "metadata": {},
     "output_type": "execute_result"
    }
   ],
   "source": [
    "database_loyal"
   ]
  },
  {
   "cell_type": "code",
   "execution_count": 154,
   "metadata": {},
   "outputs": [
    {
     "data": {
      "text/plain": [
       "61954"
      ]
     },
     "execution_count": 154,
     "metadata": {},
     "output_type": "execute_result"
    }
   ],
   "source": [
    "database_loyal.client_id.nunique()"
   ]
  },
  {
   "cell_type": "code",
   "execution_count": 110,
   "metadata": {},
   "outputs": [
    {
     "name": "stderr",
     "output_type": "stream",
     "text": [
      "/Users/mariadonskova/opt/anaconda3/lib/python3.7/site-packages/ipykernel_launcher.py:8: UserWarning: Boolean Series key will be reindexed to match DataFrame index.\n",
      "  \n"
     ]
    },
    {
     "data": {
      "text/plain": [
       "<matplotlib.legend.Legend at 0x7fbfeb2e52d0>"
      ]
     },
     "execution_count": 110,
     "metadata": {},
     "output_type": "execute_result"
    },
    {
     "data": {
      "image/png": "[encoded data removed]",
      "text/plain": [
       "<Figure size 1080x504 with 1 Axes>"
      ]
     },
     "metadata": {
      "needs_background": "light"
     },
     "output_type": "display_data"
    }
   ],
   "source": [
    "x_list = []\n",
    "y_list = []\n",
    "\n",
    "\n",
    "for i in sorted(database_loyal.frec.unique()):\n",
    "    x_list.append(i)\n",
    "    mask = database['frec'] == i\n",
    "    a = database_loyal[mask]\n",
    "    y_list.append(a.groupby(['client_id'])['prom'].mean().reset_index().prom.mean())\n",
    "    \n",
    "plt.plot(x_list, y_list, color='k', label='Mean chq(frequency)')\n",
    "plt.xlabel('frequency of visits', fontsize=20)\n",
    "plt.ylabel('Mean promo items', fontsize=20)\n",
    "plt.legend()\n",
    "#plt.savefig('Mean chq(frequency).svg', format='svg')"
   ]
  },
  {
   "cell_type": "code",
   "execution_count": 113,
   "metadata": {},
   "outputs": [
    {
     "data": {
      "text/plain": [
       "0.000000     223330\n",
       "0.017391          1\n",
       "0.018182          1\n",
       "0.018519          1\n",
       "0.020408          1\n",
       "              ...  \n",
       "7.000000          1\n",
       "8.000000          2\n",
       "9.000000          2\n",
       "11.333333         1\n",
       "19.500000         1\n",
       "Name: prom, Length: 3493, dtype: int64"
      ]
     },
     "execution_count": 113,
     "metadata": {},
     "output_type": "execute_result"
    }
   ],
   "source": [
    "database_loyal.prom.value_counts().sort_index()"
   ]
  },
  {
   "cell_type": "code",
   "execution_count": 94,
   "metadata": {},
   "outputs": [
    {
     "data": {
      "text/plain": [
       "100000"
      ]
     },
     "execution_count": 94,
     "metadata": {},
     "output_type": "execute_result"
    }
   ],
   "source": [
    "database.client_id.nunique()"
   ]
  },
  {
   "cell_type": "code",
   "execution_count": 188,
   "metadata": {},
   "outputs": [
    {
     "data": {
      "text/html": [
       "<div>\n",
       "<style scoped>\n",
       "    .dataframe tbody tr th:only-of-type {\n",
       "        vertical-align: middle;\n",
       "    }\n",
       "\n",
       "    .dataframe tbody tr th {\n",
       "        vertical-align: top;\n",
       "    }\n",
       "\n",
       "    .dataframe thead th {\n",
       "        text-align: right;\n",
       "    }\n",
       "</style>\n",
       "<table border=\"1\" class=\"dataframe\">\n",
       "  <thead>\n",
       "    <tr style=\"text-align: right;\">\n",
       "      <th></th>\n",
       "      <th>client_id</th>\n",
       "      <th>chq_date</th>\n",
       "      <th>max_pos</th>\n",
       "      <th>max_promo</th>\n",
       "      <th>max_sales</th>\n",
       "      <th>time_diff</th>\n",
       "      <th>time_max</th>\n",
       "      <th>time_mean</th>\n",
       "      <th>is_quit</th>\n",
       "      <th>frec</th>\n",
       "      <th>prom</th>\n",
       "    </tr>\n",
       "  </thead>\n",
       "  <tbody>\n",
       "    <tr>\n",
       "      <td>0</td>\n",
       "      <td>0000d48a8891cd462fdf01ea861ec53e</td>\n",
       "      <td>2016-10-31</td>\n",
       "      <td>12</td>\n",
       "      <td>4</td>\n",
       "      <td>1655.0</td>\n",
       "      <td>20</td>\n",
       "      <td>34</td>\n",
       "      <td>9.388889</td>\n",
       "      <td>1</td>\n",
       "      <td>36</td>\n",
       "      <td>0.333333</td>\n",
       "    </tr>\n",
       "    <tr>\n",
       "      <td>1</td>\n",
       "      <td>0000d48a8891cd462fdf01ea861ec53e</td>\n",
       "      <td>2016-11-20</td>\n",
       "      <td>15</td>\n",
       "      <td>6</td>\n",
       "      <td>2475.0</td>\n",
       "      <td>11</td>\n",
       "      <td>34</td>\n",
       "      <td>9.388889</td>\n",
       "      <td>1</td>\n",
       "      <td>36</td>\n",
       "      <td>0.400000</td>\n",
       "    </tr>\n",
       "    <tr>\n",
       "      <td>2</td>\n",
       "      <td>0000d48a8891cd462fdf01ea861ec53e</td>\n",
       "      <td>2016-12-01</td>\n",
       "      <td>20</td>\n",
       "      <td>20</td>\n",
       "      <td>4481.0</td>\n",
       "      <td>9</td>\n",
       "      <td>34</td>\n",
       "      <td>9.388889</td>\n",
       "      <td>1</td>\n",
       "      <td>36</td>\n",
       "      <td>1.000000</td>\n",
       "    </tr>\n",
       "    <tr>\n",
       "      <td>3</td>\n",
       "      <td>0000d48a8891cd462fdf01ea861ec53e</td>\n",
       "      <td>2016-12-10</td>\n",
       "      <td>12</td>\n",
       "      <td>5</td>\n",
       "      <td>2030.0</td>\n",
       "      <td>3</td>\n",
       "      <td>34</td>\n",
       "      <td>9.388889</td>\n",
       "      <td>1</td>\n",
       "      <td>36</td>\n",
       "      <td>0.416667</td>\n",
       "    </tr>\n",
       "    <tr>\n",
       "      <td>4</td>\n",
       "      <td>0000d48a8891cd462fdf01ea861ec53e</td>\n",
       "      <td>2016-12-13</td>\n",
       "      <td>11</td>\n",
       "      <td>11</td>\n",
       "      <td>1502.0</td>\n",
       "      <td>14</td>\n",
       "      <td>34</td>\n",
       "      <td>9.388889</td>\n",
       "      <td>1</td>\n",
       "      <td>36</td>\n",
       "      <td>1.000000</td>\n",
       "    </tr>\n",
       "    <tr>\n",
       "      <td>...</td>\n",
       "      <td>...</td>\n",
       "      <td>...</td>\n",
       "      <td>...</td>\n",
       "      <td>...</td>\n",
       "      <td>...</td>\n",
       "      <td>...</td>\n",
       "      <td>...</td>\n",
       "      <td>...</td>\n",
       "      <td>...</td>\n",
       "      <td>...</td>\n",
       "      <td>...</td>\n",
       "    </tr>\n",
       "    <tr>\n",
       "      <td>2480201</td>\n",
       "      <td>fffc3f2be1422d248dbeda4196ef0711</td>\n",
       "      <td>2017-07-10</td>\n",
       "      <td>7</td>\n",
       "      <td>1</td>\n",
       "      <td>1901.0</td>\n",
       "      <td>11</td>\n",
       "      <td>66</td>\n",
       "      <td>12.275862</td>\n",
       "      <td>1</td>\n",
       "      <td>29</td>\n",
       "      <td>0.142857</td>\n",
       "    </tr>\n",
       "    <tr>\n",
       "      <td>2480202</td>\n",
       "      <td>fffc3f2be1422d248dbeda4196ef0711</td>\n",
       "      <td>2017-07-21</td>\n",
       "      <td>16</td>\n",
       "      <td>2</td>\n",
       "      <td>3506.0</td>\n",
       "      <td>13</td>\n",
       "      <td>66</td>\n",
       "      <td>12.275862</td>\n",
       "      <td>1</td>\n",
       "      <td>29</td>\n",
       "      <td>0.125000</td>\n",
       "    </tr>\n",
       "    <tr>\n",
       "      <td>2480203</td>\n",
       "      <td>fffc3f2be1422d248dbeda4196ef0711</td>\n",
       "      <td>2017-08-03</td>\n",
       "      <td>8</td>\n",
       "      <td>2</td>\n",
       "      <td>1791.0</td>\n",
       "      <td>4</td>\n",
       "      <td>66</td>\n",
       "      <td>12.275862</td>\n",
       "      <td>1</td>\n",
       "      <td>29</td>\n",
       "      <td>0.250000</td>\n",
       "    </tr>\n",
       "    <tr>\n",
       "      <td>2480204</td>\n",
       "      <td>fffc3f2be1422d248dbeda4196ef0711</td>\n",
       "      <td>2017-08-07</td>\n",
       "      <td>20</td>\n",
       "      <td>4</td>\n",
       "      <td>3682.0</td>\n",
       "      <td>48</td>\n",
       "      <td>66</td>\n",
       "      <td>12.275862</td>\n",
       "      <td>1</td>\n",
       "      <td>29</td>\n",
       "      <td>0.200000</td>\n",
       "    </tr>\n",
       "    <tr>\n",
       "      <td>2480205</td>\n",
       "      <td>fffc3f2be1422d248dbeda4196ef0711</td>\n",
       "      <td>2017-09-24</td>\n",
       "      <td>8</td>\n",
       "      <td>1</td>\n",
       "      <td>964.0</td>\n",
       "      <td>10</td>\n",
       "      <td>66</td>\n",
       "      <td>12.275862</td>\n",
       "      <td>1</td>\n",
       "      <td>29</td>\n",
       "      <td>0.125000</td>\n",
       "    </tr>\n",
       "  </tbody>\n",
       "</table>\n",
       "<p>2245401 rows × 11 columns</p>\n",
       "</div>"
      ],
      "text/plain": [
       "                                client_id   chq_date  max_pos  max_promo  \\\n",
       "0        0000d48a8891cd462fdf01ea861ec53e 2016-10-31       12          4   \n",
       "1        0000d48a8891cd462fdf01ea861ec53e 2016-11-20       15          6   \n",
       "2        0000d48a8891cd462fdf01ea861ec53e 2016-12-01       20         20   \n",
       "3        0000d48a8891cd462fdf01ea861ec53e 2016-12-10       12          5   \n",
       "4        0000d48a8891cd462fdf01ea861ec53e 2016-12-13       11         11   \n",
       "...                                   ...        ...      ...        ...   \n",
       "2480201  fffc3f2be1422d248dbeda4196ef0711 2017-07-10        7          1   \n",
       "2480202  fffc3f2be1422d248dbeda4196ef0711 2017-07-21       16          2   \n",
       "2480203  fffc3f2be1422d248dbeda4196ef0711 2017-08-03        8          2   \n",
       "2480204  fffc3f2be1422d248dbeda4196ef0711 2017-08-07       20          4   \n",
       "2480205  fffc3f2be1422d248dbeda4196ef0711 2017-09-24        8          1   \n",
       "\n",
       "         max_sales  time_diff  time_max  time_mean  is_quit  frec      prom  \n",
       "0           1655.0         20        34   9.388889        1    36  0.333333  \n",
       "1           2475.0         11        34   9.388889        1    36  0.400000  \n",
       "2           4481.0          9        34   9.388889        1    36  1.000000  \n",
       "3           2030.0          3        34   9.388889        1    36  0.416667  \n",
       "4           1502.0         14        34   9.388889        1    36  1.000000  \n",
       "...            ...        ...       ...        ...      ...   ...       ...  \n",
       "2480201     1901.0         11        66  12.275862        1    29  0.142857  \n",
       "2480202     3506.0         13        66  12.275862        1    29  0.125000  \n",
       "2480203     1791.0          4        66  12.275862        1    29  0.250000  \n",
       "2480204     3682.0         48        66  12.275862        1    29  0.200000  \n",
       "2480205      964.0         10        66  12.275862        1    29  0.125000  \n",
       "\n",
       "[2245401 rows x 11 columns]"
      ]
     },
     "execution_count": 188,
     "metadata": {},
     "output_type": "execute_result"
    }
   ],
   "source": [
    "database_loyal"
   ]
  },
  {
   "cell_type": "markdown",
   "metadata": {},
   "source": [
    "# Среди лояльных клиентов детектирование важных продуктов"
   ]
  },
  {
   "cell_type": "code",
   "execution_count": null,
   "metadata": {},
   "outputs": [],
   "source": [
    "clients = pd.read_csv('clients.csv')\n",
    "materials = pd.read_csv('materials.csv')\n",
    "plants = pd.read_csv('plants.csv')"
   ]
  },
  {
   "cell_type": "code",
   "execution_count": 130,
   "metadata": {},
   "outputs": [],
   "source": [
    "id_1 = transactions[transactions.client_id == '84b70b74f1871618b71ada61b88980f1']"
   ]
  },
  {
   "cell_type": "code",
   "execution_count": 131,
   "metadata": {},
   "outputs": [
    {
     "data": {
      "text/html": [
       "<div>\n",
       "<style scoped>\n",
       "    .dataframe tbody tr th:only-of-type {\n",
       "        vertical-align: middle;\n",
       "    }\n",
       "\n",
       "    .dataframe tbody tr th {\n",
       "        vertical-align: top;\n",
       "    }\n",
       "\n",
       "    .dataframe thead th {\n",
       "        text-align: right;\n",
       "    }\n",
       "</style>\n",
       "<table border=\"1\" class=\"dataframe\">\n",
       "  <thead>\n",
       "    <tr style=\"text-align: right;\">\n",
       "      <th></th>\n",
       "      <th>chq_id</th>\n",
       "      <th>plant</th>\n",
       "      <th>chq_date</th>\n",
       "      <th>chq_position</th>\n",
       "      <th>client_id</th>\n",
       "      <th>material</th>\n",
       "      <th>sales_count</th>\n",
       "      <th>sales_sum</th>\n",
       "      <th>is_promo</th>\n",
       "    </tr>\n",
       "  </thead>\n",
       "  <tbody>\n",
       "    <tr>\n",
       "      <td>15548429</td>\n",
       "      <td>7a527047abf866b2dab8df2a1f056678</td>\n",
       "      <td>95b09698fda1f64af16708ffb859eab9</td>\n",
       "      <td>2016-10-04</td>\n",
       "      <td>008</td>\n",
       "      <td>84b70b74f1871618b71ada61b88980f1</td>\n",
       "      <td>5cd6a98e21031b7533ae8c9e78d4f561</td>\n",
       "      <td>1.0</td>\n",
       "      <td>64.99</td>\n",
       "      <td>1</td>\n",
       "    </tr>\n",
       "    <tr>\n",
       "      <td>15548430</td>\n",
       "      <td>7a527047abf866b2dab8df2a1f056678</td>\n",
       "      <td>95b09698fda1f64af16708ffb859eab9</td>\n",
       "      <td>2016-10-04</td>\n",
       "      <td>001</td>\n",
       "      <td>84b70b74f1871618b71ada61b88980f1</td>\n",
       "      <td>c21cdd269187f087206fd91d9b494c19</td>\n",
       "      <td>1.0</td>\n",
       "      <td>52.09</td>\n",
       "      <td>0</td>\n",
       "    </tr>\n",
       "    <tr>\n",
       "      <td>15548445</td>\n",
       "      <td>7a527047abf866b2dab8df2a1f056678</td>\n",
       "      <td>95b09698fda1f64af16708ffb859eab9</td>\n",
       "      <td>2016-10-04</td>\n",
       "      <td>006</td>\n",
       "      <td>84b70b74f1871618b71ada61b88980f1</td>\n",
       "      <td>9c17708b9f14d9016404572cb6767ee8</td>\n",
       "      <td>1.0</td>\n",
       "      <td>106.09</td>\n",
       "      <td>0</td>\n",
       "    </tr>\n",
       "    <tr>\n",
       "      <td>15548444</td>\n",
       "      <td>7a527047abf866b2dab8df2a1f056678</td>\n",
       "      <td>95b09698fda1f64af16708ffb859eab9</td>\n",
       "      <td>2016-10-04</td>\n",
       "      <td>007</td>\n",
       "      <td>84b70b74f1871618b71ada61b88980f1</td>\n",
       "      <td>8bcbfc3ad606b80f00d150d6fcd21d44</td>\n",
       "      <td>1.0</td>\n",
       "      <td>409.99</td>\n",
       "      <td>1</td>\n",
       "    </tr>\n",
       "    <tr>\n",
       "      <td>15548443</td>\n",
       "      <td>7a527047abf866b2dab8df2a1f056678</td>\n",
       "      <td>95b09698fda1f64af16708ffb859eab9</td>\n",
       "      <td>2016-10-04</td>\n",
       "      <td>002</td>\n",
       "      <td>84b70b74f1871618b71ada61b88980f1</td>\n",
       "      <td>97a075e9fd7a2942b5ccb72257aae5ab</td>\n",
       "      <td>2.0</td>\n",
       "      <td>119.78</td>\n",
       "      <td>0</td>\n",
       "    </tr>\n",
       "    <tr>\n",
       "      <td>...</td>\n",
       "      <td>...</td>\n",
       "      <td>...</td>\n",
       "      <td>...</td>\n",
       "      <td>...</td>\n",
       "      <td>...</td>\n",
       "      <td>...</td>\n",
       "      <td>...</td>\n",
       "      <td>...</td>\n",
       "      <td>...</td>\n",
       "    </tr>\n",
       "    <tr>\n",
       "      <td>28813305</td>\n",
       "      <td>a42be712d2c816c6dbc428bc234872a6</td>\n",
       "      <td>2a1eb14b0b03ef6bfa8fb6f8c8fb03d6</td>\n",
       "      <td>2017-09-16</td>\n",
       "      <td>0000000006</td>\n",
       "      <td>84b70b74f1871618b71ada61b88980f1</td>\n",
       "      <td>7e04840c1268735677ff6b98309ac330</td>\n",
       "      <td>2.0</td>\n",
       "      <td>69.78</td>\n",
       "      <td>1</td>\n",
       "    </tr>\n",
       "    <tr>\n",
       "      <td>28813286</td>\n",
       "      <td>a42be712d2c816c6dbc428bc234872a6</td>\n",
       "      <td>2a1eb14b0b03ef6bfa8fb6f8c8fb03d6</td>\n",
       "      <td>2017-09-16</td>\n",
       "      <td>0000000028</td>\n",
       "      <td>84b70b74f1871618b71ada61b88980f1</td>\n",
       "      <td>3cab4263e45e33507697bf107c3df9f3</td>\n",
       "      <td>1.0</td>\n",
       "      <td>57.99</td>\n",
       "      <td>1</td>\n",
       "    </tr>\n",
       "    <tr>\n",
       "      <td>28813284</td>\n",
       "      <td>a42be712d2c816c6dbc428bc234872a6</td>\n",
       "      <td>2a1eb14b0b03ef6bfa8fb6f8c8fb03d6</td>\n",
       "      <td>2017-09-16</td>\n",
       "      <td>0000000030</td>\n",
       "      <td>84b70b74f1871618b71ada61b88980f1</td>\n",
       "      <td>f6f249bb66b7b9e1737d923b34681d53</td>\n",
       "      <td>2.0</td>\n",
       "      <td>62.98</td>\n",
       "      <td>0</td>\n",
       "    </tr>\n",
       "    <tr>\n",
       "      <td>28813285</td>\n",
       "      <td>a42be712d2c816c6dbc428bc234872a6</td>\n",
       "      <td>2a1eb14b0b03ef6bfa8fb6f8c8fb03d6</td>\n",
       "      <td>2017-09-16</td>\n",
       "      <td>0000000019</td>\n",
       "      <td>84b70b74f1871618b71ada61b88980f1</td>\n",
       "      <td>7d3c7c6b914de33f376d593c814c6676</td>\n",
       "      <td>1.0</td>\n",
       "      <td>35.99</td>\n",
       "      <td>1</td>\n",
       "    </tr>\n",
       "    <tr>\n",
       "      <td>28813283</td>\n",
       "      <td>a42be712d2c816c6dbc428bc234872a6</td>\n",
       "      <td>2a1eb14b0b03ef6bfa8fb6f8c8fb03d6</td>\n",
       "      <td>2017-09-16</td>\n",
       "      <td>0000000021</td>\n",
       "      <td>84b70b74f1871618b71ada61b88980f1</td>\n",
       "      <td>fcc2d9145abe0677d39e42ac02556760</td>\n",
       "      <td>1.0</td>\n",
       "      <td>119.99</td>\n",
       "      <td>0</td>\n",
       "    </tr>\n",
       "  </tbody>\n",
       "</table>\n",
       "<p>684 rows × 9 columns</p>\n",
       "</div>"
      ],
      "text/plain": [
       "                                    chq_id                             plant  \\\n",
       "15548429  7a527047abf866b2dab8df2a1f056678  95b09698fda1f64af16708ffb859eab9   \n",
       "15548430  7a527047abf866b2dab8df2a1f056678  95b09698fda1f64af16708ffb859eab9   \n",
       "15548445  7a527047abf866b2dab8df2a1f056678  95b09698fda1f64af16708ffb859eab9   \n",
       "15548444  7a527047abf866b2dab8df2a1f056678  95b09698fda1f64af16708ffb859eab9   \n",
       "15548443  7a527047abf866b2dab8df2a1f056678  95b09698fda1f64af16708ffb859eab9   \n",
       "...                                    ...                               ...   \n",
       "28813305  a42be712d2c816c6dbc428bc234872a6  2a1eb14b0b03ef6bfa8fb6f8c8fb03d6   \n",
       "28813286  a42be712d2c816c6dbc428bc234872a6  2a1eb14b0b03ef6bfa8fb6f8c8fb03d6   \n",
       "28813284  a42be712d2c816c6dbc428bc234872a6  2a1eb14b0b03ef6bfa8fb6f8c8fb03d6   \n",
       "28813285  a42be712d2c816c6dbc428bc234872a6  2a1eb14b0b03ef6bfa8fb6f8c8fb03d6   \n",
       "28813283  a42be712d2c816c6dbc428bc234872a6  2a1eb14b0b03ef6bfa8fb6f8c8fb03d6   \n",
       "\n",
       "           chq_date chq_position                         client_id  \\\n",
       "15548429 2016-10-04          008  84b70b74f1871618b71ada61b88980f1   \n",
       "15548430 2016-10-04          001  84b70b74f1871618b71ada61b88980f1   \n",
       "15548445 2016-10-04          006  84b70b74f1871618b71ada61b88980f1   \n",
       "15548444 2016-10-04          007  84b70b74f1871618b71ada61b88980f1   \n",
       "15548443 2016-10-04          002  84b70b74f1871618b71ada61b88980f1   \n",
       "...             ...          ...                               ...   \n",
       "28813305 2017-09-16   0000000006  84b70b74f1871618b71ada61b88980f1   \n",
       "28813286 2017-09-16   0000000028  84b70b74f1871618b71ada61b88980f1   \n",
       "28813284 2017-09-16   0000000030  84b70b74f1871618b71ada61b88980f1   \n",
       "28813285 2017-09-16   0000000019  84b70b74f1871618b71ada61b88980f1   \n",
       "28813283 2017-09-16   0000000021  84b70b74f1871618b71ada61b88980f1   \n",
       "\n",
       "                                  material  sales_count  sales_sum  is_promo  \n",
       "15548429  5cd6a98e21031b7533ae8c9e78d4f561          1.0      64.99         1  \n",
       "15548430  c21cdd269187f087206fd91d9b494c19          1.0      52.09         0  \n",
       "15548445  9c17708b9f14d9016404572cb6767ee8          1.0     106.09         0  \n",
       "15548444  8bcbfc3ad606b80f00d150d6fcd21d44          1.0     409.99         1  \n",
       "15548443  97a075e9fd7a2942b5ccb72257aae5ab          2.0     119.78         0  \n",
       "...                                    ...          ...        ...       ...  \n",
       "28813305  7e04840c1268735677ff6b98309ac330          2.0      69.78         1  \n",
       "28813286  3cab4263e45e33507697bf107c3df9f3          1.0      57.99         1  \n",
       "28813284  f6f249bb66b7b9e1737d923b34681d53          2.0      62.98         0  \n",
       "28813285  7d3c7c6b914de33f376d593c814c6676          1.0      35.99         1  \n",
       "28813283  fcc2d9145abe0677d39e42ac02556760          1.0     119.99         0  \n",
       "\n",
       "[684 rows x 9 columns]"
      ]
     },
     "execution_count": 131,
     "metadata": {},
     "output_type": "execute_result"
    }
   ],
   "source": [
    "id_1"
   ]
  },
  {
   "cell_type": "code",
   "execution_count": 134,
   "metadata": {},
   "outputs": [
    {
     "data": {
      "text/plain": [
       "['97a075e9fd7a2942b5ccb72257aae5ab',\n",
       " '6278f48a43fb0a23036b3a11c92e726c',\n",
       " 'e17647f7a330c2fe490218253a59f07c',\n",
       " '962b727f1de1e02bb2a538fd479a8ceb',\n",
       " '6bcbbc463b5e7694fb05112b758ff0cd',\n",
       " '6fa0adc9b5333a8724a92122e69e2921',\n",
       " '67c6f5d2b7bc441ffc17327d389636da',\n",
       " '59fd46fb3abe3a3a9383816446427542',\n",
       " '6035bd54ba25cd7effe7e0cbd8bfbd54',\n",
       " '420d448e9d7d8be13e5b6125ea8da066']"
      ]
     },
     "execution_count": 134,
     "metadata": {},
     "output_type": "execute_result"
    }
   ],
   "source": [
    "n = 10\n",
    "id_1['material'].value_counts()[:n].index.tolist()"
   ]
  },
  {
   "cell_type": "code",
   "execution_count": null,
   "metadata": {},
   "outputs": [],
   "source": []
  },
  {
   "cell_type": "code",
   "execution_count": 146,
   "metadata": {},
   "outputs": [
    {
     "data": {
      "text/plain": [
       "b75147feae4cf8ec07fb5f2cef855def    692433\n",
       "6278f48a43fb0a23036b3a11c92e726c    378474\n",
       "3afa2c41341548499934a52d7338f33e    320791\n",
       "142d63107737a448dc2dfe2dcd0154b8    251527\n",
       "767aaeb00eb1c7dd273ba954b3e2f4b8    152964\n",
       "                                     ...  \n",
       "0e72fc3bc7bc1b169aa8d42a9a0133e7         1\n",
       "b36aa21b945b993dd5db3b66d200ce4b         1\n",
       "7405d9a716477e9e69347fd28277f857         1\n",
       "858592ca0410eb904f2036f03d636e94         1\n",
       "9945d3516f9461d01f2d907da75b3d9d         1\n",
       "Name: material, Length: 105694, dtype: int64"
      ]
     },
     "execution_count": 146,
     "metadata": {},
     "output_type": "execute_result"
    }
   ],
   "source": [
    "transactions['material'].value_counts()"
   ]
  },
  {
   "cell_type": "markdown",
   "metadata": {},
   "source": [
    "# Поиск замены товара"
   ]
  },
  {
   "cell_type": "code",
   "execution_count": 144,
   "metadata": {},
   "outputs": [
    {
     "data": {
      "text/html": [
       "<div>\n",
       "<style scoped>\n",
       "    .dataframe tbody tr th:only-of-type {\n",
       "        vertical-align: middle;\n",
       "    }\n",
       "\n",
       "    .dataframe tbody tr th {\n",
       "        vertical-align: top;\n",
       "    }\n",
       "\n",
       "    .dataframe thead th {\n",
       "        text-align: right;\n",
       "    }\n",
       "</style>\n",
       "<table border=\"1\" class=\"dataframe\">\n",
       "  <thead>\n",
       "    <tr style=\"text-align: right;\">\n",
       "      <th></th>\n",
       "      <th>material</th>\n",
       "      <th>hier_level_1</th>\n",
       "      <th>hier_level_2</th>\n",
       "      <th>hier_level_3</th>\n",
       "      <th>hier_level_4</th>\n",
       "      <th>vendor</th>\n",
       "      <th>is_private_label</th>\n",
       "      <th>is_alco</th>\n",
       "    </tr>\n",
       "  </thead>\n",
       "  <tbody>\n",
       "    <tr>\n",
       "      <td>391</td>\n",
       "      <td>80c9d0f9ad59dab5ab8a1eb7f9b140c4</td>\n",
       "      <td>FOOD</td>\n",
       "      <td>70efdf2ec9b086079795c442636b55fb</td>\n",
       "      <td>a588a6199feff5ba48402883d9b72700</td>\n",
       "      <td>aee12832d2da671b3bb375e5839f163e</td>\n",
       "      <td>f861ba23152783a47d48fc0252696f1c</td>\n",
       "      <td>0</td>\n",
       "      <td>0</td>\n",
       "    </tr>\n",
       "    <tr>\n",
       "      <td>392</td>\n",
       "      <td>a6896dd14fe5379c3bd02876e4816a18</td>\n",
       "      <td>FOOD</td>\n",
       "      <td>70efdf2ec9b086079795c442636b55fb</td>\n",
       "      <td>2a27b8144ac02f67687f76782a3b5d8f</td>\n",
       "      <td>08328a40211511b00715190bf86cbcd0</td>\n",
       "      <td>f861ba23152783a47d48fc0252696f1c</td>\n",
       "      <td>0</td>\n",
       "      <td>0</td>\n",
       "    </tr>\n",
       "    <tr>\n",
       "      <td>476</td>\n",
       "      <td>9b40fa131acad202a7880b748731bc78</td>\n",
       "      <td>FOOD</td>\n",
       "      <td>70efdf2ec9b086079795c442636b55fb</td>\n",
       "      <td>a588a6199feff5ba48402883d9b72700</td>\n",
       "      <td>aee12832d2da671b3bb375e5839f163e</td>\n",
       "      <td>f861ba23152783a47d48fc0252696f1c</td>\n",
       "      <td>0</td>\n",
       "      <td>0</td>\n",
       "    </tr>\n",
       "    <tr>\n",
       "      <td>477</td>\n",
       "      <td>e178c079712323271ab2e32d73ec91e2</td>\n",
       "      <td>FOOD</td>\n",
       "      <td>70efdf2ec9b086079795c442636b55fb</td>\n",
       "      <td>a588a6199feff5ba48402883d9b72700</td>\n",
       "      <td>1a10679572e1eb66b2fe70c8e4dafb47</td>\n",
       "      <td>f861ba23152783a47d48fc0252696f1c</td>\n",
       "      <td>0</td>\n",
       "      <td>0</td>\n",
       "    </tr>\n",
       "    <tr>\n",
       "      <td>478</td>\n",
       "      <td>40f3a54739768c58dfad76a1c40e2d88</td>\n",
       "      <td>FOOD</td>\n",
       "      <td>70efdf2ec9b086079795c442636b55fb</td>\n",
       "      <td>375c71349b295fbe2dcdca9206f20a06</td>\n",
       "      <td>364aa35b662d5689deb8370041e17ca6</td>\n",
       "      <td>f861ba23152783a47d48fc0252696f1c</td>\n",
       "      <td>0</td>\n",
       "      <td>0</td>\n",
       "    </tr>\n",
       "    <tr>\n",
       "      <td>479</td>\n",
       "      <td>0736add4fda3565805739870eace03d9</td>\n",
       "      <td>FOOD</td>\n",
       "      <td>70efdf2ec9b086079795c442636b55fb</td>\n",
       "      <td>375c71349b295fbe2dcdca9206f20a06</td>\n",
       "      <td>364aa35b662d5689deb8370041e17ca6</td>\n",
       "      <td>f861ba23152783a47d48fc0252696f1c</td>\n",
       "      <td>0</td>\n",
       "      <td>0</td>\n",
       "    </tr>\n",
       "    <tr>\n",
       "      <td>480</td>\n",
       "      <td>711bea946ee4332e6c902cb623b38c4e</td>\n",
       "      <td>FOOD</td>\n",
       "      <td>70efdf2ec9b086079795c442636b55fb</td>\n",
       "      <td>a588a6199feff5ba48402883d9b72700</td>\n",
       "      <td>c14c6145cfc86c8346539aaf00fce094</td>\n",
       "      <td>f861ba23152783a47d48fc0252696f1c</td>\n",
       "      <td>0</td>\n",
       "      <td>0</td>\n",
       "    </tr>\n",
       "    <tr>\n",
       "      <td>6595</td>\n",
       "      <td>6807189b1792141652c7c1a0a640acac</td>\n",
       "      <td>FOOD</td>\n",
       "      <td>70efdf2ec9b086079795c442636b55fb</td>\n",
       "      <td>375c71349b295fbe2dcdca9206f20a06</td>\n",
       "      <td>d7f02aba6a5b597920033f6b760985ee</td>\n",
       "      <td>f861ba23152783a47d48fc0252696f1c</td>\n",
       "      <td>0</td>\n",
       "      <td>0</td>\n",
       "    </tr>\n",
       "    <tr>\n",
       "      <td>6596</td>\n",
       "      <td>34d08ec36de945af85bc83ed4b374547</td>\n",
       "      <td>FOOD</td>\n",
       "      <td>70efdf2ec9b086079795c442636b55fb</td>\n",
       "      <td>2a27b8144ac02f67687f76782a3b5d8f</td>\n",
       "      <td>88bc8e4c598d233294385b72836ab725</td>\n",
       "      <td>f861ba23152783a47d48fc0252696f1c</td>\n",
       "      <td>0</td>\n",
       "      <td>0</td>\n",
       "    </tr>\n",
       "  </tbody>\n",
       "</table>\n",
       "</div>"
      ],
      "text/plain": [
       "                              material hier_level_1  \\\n",
       "391   80c9d0f9ad59dab5ab8a1eb7f9b140c4         FOOD   \n",
       "392   a6896dd14fe5379c3bd02876e4816a18         FOOD   \n",
       "476   9b40fa131acad202a7880b748731bc78         FOOD   \n",
       "477   e178c079712323271ab2e32d73ec91e2         FOOD   \n",
       "478   40f3a54739768c58dfad76a1c40e2d88         FOOD   \n",
       "479   0736add4fda3565805739870eace03d9         FOOD   \n",
       "480   711bea946ee4332e6c902cb623b38c4e         FOOD   \n",
       "6595  6807189b1792141652c7c1a0a640acac         FOOD   \n",
       "6596  34d08ec36de945af85bc83ed4b374547         FOOD   \n",
       "\n",
       "                          hier_level_2                      hier_level_3  \\\n",
       "391   70efdf2ec9b086079795c442636b55fb  a588a6199feff5ba48402883d9b72700   \n",
       "392   70efdf2ec9b086079795c442636b55fb  2a27b8144ac02f67687f76782a3b5d8f   \n",
       "476   70efdf2ec9b086079795c442636b55fb  a588a6199feff5ba48402883d9b72700   \n",
       "477   70efdf2ec9b086079795c442636b55fb  a588a6199feff5ba48402883d9b72700   \n",
       "478   70efdf2ec9b086079795c442636b55fb  375c71349b295fbe2dcdca9206f20a06   \n",
       "479   70efdf2ec9b086079795c442636b55fb  375c71349b295fbe2dcdca9206f20a06   \n",
       "480   70efdf2ec9b086079795c442636b55fb  a588a6199feff5ba48402883d9b72700   \n",
       "6595  70efdf2ec9b086079795c442636b55fb  375c71349b295fbe2dcdca9206f20a06   \n",
       "6596  70efdf2ec9b086079795c442636b55fb  2a27b8144ac02f67687f76782a3b5d8f   \n",
       "\n",
       "                          hier_level_4                            vendor  \\\n",
       "391   aee12832d2da671b3bb375e5839f163e  f861ba23152783a47d48fc0252696f1c   \n",
       "392   08328a40211511b00715190bf86cbcd0  f861ba23152783a47d48fc0252696f1c   \n",
       "476   aee12832d2da671b3bb375e5839f163e  f861ba23152783a47d48fc0252696f1c   \n",
       "477   1a10679572e1eb66b2fe70c8e4dafb47  f861ba23152783a47d48fc0252696f1c   \n",
       "478   364aa35b662d5689deb8370041e17ca6  f861ba23152783a47d48fc0252696f1c   \n",
       "479   364aa35b662d5689deb8370041e17ca6  f861ba23152783a47d48fc0252696f1c   \n",
       "480   c14c6145cfc86c8346539aaf00fce094  f861ba23152783a47d48fc0252696f1c   \n",
       "6595  d7f02aba6a5b597920033f6b760985ee  f861ba23152783a47d48fc0252696f1c   \n",
       "6596  88bc8e4c598d233294385b72836ab725  f861ba23152783a47d48fc0252696f1c   \n",
       "\n",
       "      is_private_label  is_alco  \n",
       "391                  0        0  \n",
       "392                  0        0  \n",
       "476                  0        0  \n",
       "477                  0        0  \n",
       "478                  0        0  \n",
       "479                  0        0  \n",
       "480                  0        0  \n",
       "6595                 0        0  \n",
       "6596                 0        0  "
      ]
     },
     "execution_count": 144,
     "metadata": {},
     "output_type": "execute_result"
    }
   ],
   "source": [
    "materials[materials.vendor == 'f861ba23152783a47d48fc0252696f1c']"
   ]
  },
  {
   "cell_type": "code",
   "execution_count": 122,
   "metadata": {},
   "outputs": [
    {
     "data": {
      "text/plain": [
       "<pandas.core.groupby.generic.SeriesGroupBy object at 0x7fbfeb75e0d0>"
      ]
     },
     "execution_count": 122,
     "metadata": {},
     "output_type": "execute_result"
    }
   ],
   "source": [
    "materials.groupby(['hier_level_1'])['material']"
   ]
  },
  {
   "cell_type": "code",
   "execution_count": 228,
   "metadata": {},
   "outputs": [],
   "source": [
    "def convert(input):\n",
    "    \n",
    "    database = dict()\n",
    "    \n",
    "    for (consumer, time) in input:\n",
    "        \n",
    "        if consumer in database:\n",
    "            database[consumer]['time'].append(time.date())\n",
    "            database[consumer]['cost'].append(input[(consumer, time)])\n",
    "        else:\n",
    "            database[consumer] = {'time': [time.date()], 'cost': [input[(consumer, time)]]}\n",
    "            \n",
    "    return database\n",
    "\n",
    "a = convert(transactions.groupby(['client_id', 'chq_date'])['sales_sum'].sum().to_dict())\n",
    "keys = list(a.keys())[:500]"
   ]
  },
  {
   "cell_type": "code",
   "execution_count": 229,
   "metadata": {},
   "outputs": [
    {
     "data": {
      "image/png": "[encoded data removed]",
      "text/plain": [
       "<Figure size 1152x576 with 1 Axes>"
      ]
     },
     "metadata": {
      "needs_background": "light"
     },
     "output_type": "display_data"
    }
   ],
   "source": [
    "cmap = plt.get_cmap('gnuplot')\n",
    "fig, ax = plt.subplots(figsize=(16, 8))\n",
    "ax.set_ylim(0, 5000)\n",
    "ax.set_xlim([dt.date(2016, 10, 1), dt.date(2017, 11, 1)])\n",
    "colors = [cmap(i) for i in np.linspace(0, 1, 100)]\n",
    "for person, c in zip(keys, colors):\n",
    "    ax.plot(a[person]['time'], a[person]['cost'], 'r+', label = person, c=c)\n",
    "plt.gcf().autofmt_xdate()\n",
    "#plt.legend()\n",
    "plt.show()"
   ]
  },
  {
   "cell_type": "code",
   "execution_count": 230,
   "metadata": {},
   "outputs": [
    {
     "data": {
      "application/vnd.jupyter.widget-view+json": {
       "model_id": "9c8cb82da2f740e2a4d90e46e22328ad",
       "version_major": 2,
       "version_minor": 0
      },
      "text/plain": [
       "interactive(children=(IntSlider(value=250, description='i', max=500), Output()), _dom_classes=('widget-interac…"
      ]
     },
     "metadata": {},
     "output_type": "display_data"
    }
   ],
   "source": [
    "@interact\n",
    "def f(i=(0, len(keys))):\n",
    "    \n",
    "    fig, ax = plt.subplots(figsize=(16, 8))\n",
    "    ax.set_ylim(0, 10000)\n",
    "    ax.set_xlim([dt.date(2016, 10, 1), dt.date(2017, 11, 1)])\n",
    "    if len(a[keys[i]]['time']) == 1:\n",
    "        plt.plot(a[keys[i]]['time'], a[keys[i]]['cost'], '*',label = keys[i])\n",
    "    else:\n",
    "        plt.plot(a[keys[i]]['time'], a[keys[i]]['cost'], label = keys[i])\n",
    "    plt.gcf().autofmt_xdate()\n",
    "    plt.legend()\n",
    "    plt.show()"
   ]
  },
  {
   "cell_type": "code",
   "execution_count": null,
   "metadata": {},
   "outputs": [],
   "source": []
  }
 ],
 "metadata": {
  "kernelspec": {
   "display_name": "Python 3",
   "language": "python",
   "name": "python3"
  },
  "language_info": {
   "codemirror_mode": {
    "name": "ipython",
    "version": 3
   },
   "file_extension": ".py",
   "mimetype": "text/x-python",
   "name": "python",
   "nbconvert_exporter": "python",
   "pygments_lexer": "ipython3",
   "version": "3.7.4"
  }
 },
 "nbformat": 4,
 "nbformat_minor": 4
}
